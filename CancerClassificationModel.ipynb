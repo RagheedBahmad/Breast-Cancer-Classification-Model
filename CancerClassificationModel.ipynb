{
 "cells": [
  {
   "cell_type": "code",
   "execution_count": 7,
   "id": "initial_id",
   "metadata": {
    "collapsed": true,
    "ExecuteTime": {
     "end_time": "2024-04-30T14:20:54.515156Z",
     "start_time": "2024-04-30T14:20:53.619540Z"
    }
   },
   "outputs": [],
   "source": [
    "import pandas as pd\n",
    "from sklearn.preprocessing import LabelEncoder\n",
    "from sklearn.model_selection import train_test_split\n",
    "import numpy as np\n",
    "from imblearn.over_sampling import SMOTE\n",
    "from sklearn.preprocessing import StandardScaler"
   ]
  },
  {
   "cell_type": "markdown",
   "source": [
    "Reading Data and creating Features and Classification splits"
   ],
   "metadata": {
    "collapsed": false
   },
   "id": "c62a5bfb01c7aa1f"
  },
  {
   "cell_type": "code",
   "outputs": [],
   "source": [
    "# Read the data\n",
    "df = pd.read_csv('data.csv', low_memory=False)\n",
    "\n",
    "# Split into features and target\n",
    "X = df.drop('cancer_type', axis=1)\n",
    "X = X.drop('patient_id', axis=1)\n",
    "y = df['cancer_type']"
   ],
   "metadata": {
    "collapsed": false,
    "ExecuteTime": {
     "end_time": "2024-04-30T14:15:53.109524Z",
     "start_time": "2024-04-30T14:15:52.891487Z"
    }
   },
   "id": "bae7c0216077a7d",
   "execution_count": 3
  },
  {
   "cell_type": "markdown",
   "source": [
    "Converting Strings into one-hot encoded data"
   ],
   "metadata": {
    "collapsed": false
   },
   "id": "ff227d75c9528680"
  },
  {
   "cell_type": "code",
   "outputs": [],
   "source": [
    "def encode_categorical_cols(cols, df=X):\n",
    "\n",
    "    for col in cols:\n",
    "        df[col] = df[col].fillna(\"missing\") # Fills NA values with a string \n",
    "\n",
    "        df[col] = pd.Categorical(df[col], categories=df[col].unique(), ordered=True) # Categorizes\n",
    "\n",
    "        df[col] = df[col].cat.codes # Replaces strings with categories\n",
    "\n",
    "    return df\n",
    "\n",
    "nominal_cols =[]\n",
    "\n",
    "# Automatically fill nominal_cols with columns containing strings that are not in ordinal_cols\n",
    "for col in X.columns:\n",
    "    if X[col].dtype == 'object':\n",
    "        nominal_cols.append(col)\n",
    "\n",
    "# Encode categorical columns\n",
    "X = encode_categorical_cols(nominal_cols)\n",
    "X = X.fillna(0)\n",
    "\n",
    "label_encoder = LabelEncoder()\n",
    "\n",
    "# Convert string labels to integer labels\n",
    "y = label_encoder.fit_transform(y)"
   ],
   "metadata": {
    "collapsed": false,
    "ExecuteTime": {
     "end_time": "2024-04-30T14:19:01.548213Z",
     "start_time": "2024-04-30T14:19:01.486659Z"
    }
   },
   "id": "aa735e989b1a6bbd",
   "execution_count": 5
  },
  {
   "cell_type": "markdown",
   "source": [
    "Splitting the features into train, validation, and test datasets. Then oversampling minority classes and normalizing data."
   ],
   "metadata": {
    "collapsed": false
   },
   "id": "596c94bb9ba60bbb"
  },
  {
   "cell_type": "code",
   "outputs": [
    {
     "name": "stdout",
     "output_type": "stream",
     "text": [
      "Distribution in y_train: [719  68  11  99]\n",
      "Distribution in y_train: [719 719 719 719]\n",
      "Distribution in y_val: [240  23   3  33]\n",
      "Distribution in y_test: [240  23   4  33]\n"
     ]
    }
   ],
   "source": [
    "X_temp, X_test, y_temp, y_test = train_test_split(\n",
    "    X, y, test_size=0.2, random_state=42, stratify=y, shuffle=True\n",
    ") # Splits data into 80% training and 20% testing\n",
    "X_train, X_val, y_train, y_val = train_test_split(\n",
    "    X_temp, y_temp, test_size=0.25, random_state=42, stratify=y_temp, shuffle=True\n",
    ") # Splits the 80% training into 60% training and 20% validation\n",
    "print('Distribution in y_train:', np.bincount(y_train))\n",
    "smote = SMOTE()\n",
    "X_train, y_train = smote.fit_resample(X_train, y_train) # Oversamples minority classes\n",
    "\n",
    "print('Distribution in y_train:', np.bincount(y_train))\n",
    "print('Distribution in y_val:', np.bincount(y_val))\n",
    "print('Distribution in y_test:', np.bincount(y_test))\n",
    "\n",
    "# Normalizing numerical features\n",
    "numerical_cols = X.select_dtypes(include=['int64', 'float64']).columns\n",
    "scaler = StandardScaler()\n",
    "X[numerical_cols] = scaler.fit_transform(X[numerical_cols])"
   ],
   "metadata": {
    "collapsed": false,
    "ExecuteTime": {
     "end_time": "2024-04-30T14:20:59.833338Z",
     "start_time": "2024-04-30T14:20:59.107538Z"
    }
   },
   "id": "3749a3dd3bfea170",
   "execution_count": 8
  },
  {
   "cell_type": "code",
   "outputs": [],
   "source": [],
   "metadata": {
    "collapsed": false
   },
   "id": "fa95bd323bd0aaad"
  }
 ],
 "metadata": {
  "kernelspec": {
   "display_name": "Python 3",
   "language": "python",
   "name": "python3"
  },
  "language_info": {
   "codemirror_mode": {
    "name": "ipython",
    "version": 2
   },
   "file_extension": ".py",
   "mimetype": "text/x-python",
   "name": "python",
   "nbconvert_exporter": "python",
   "pygments_lexer": "ipython2",
   "version": "2.7.6"
  }
 },
 "nbformat": 4,
 "nbformat_minor": 5
}
