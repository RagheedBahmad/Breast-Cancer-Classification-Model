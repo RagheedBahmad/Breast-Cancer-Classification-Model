{
 "cells": [
  {
   "cell_type": "code",
   "execution_count": 2,
   "id": "initial_id",
   "metadata": {
    "collapsed": true,
    "ExecuteTime": {
     "end_time": "2024-04-30T14:15:52.063655Z",
     "start_time": "2024-04-30T14:15:49.567941Z"
    }
   },
   "outputs": [],
   "source": [
    "import pandas as pd\n",
    "from sklearn.preprocessing import LabelEncoder"
   ]
  },
  {
   "cell_type": "code",
   "outputs": [],
   "source": [
    "# Read the data\n",
    "df = pd.read_csv('data.csv', low_memory=False)\n",
    "\n",
    "# Split into features and target\n",
    "X = df.drop('cancer_type', axis=1)\n",
    "X = X.drop('patient_id', axis=1)\n",
    "y = df['cancer_type']"
   ],
   "metadata": {
    "collapsed": false,
    "ExecuteTime": {
     "end_time": "2024-04-30T14:15:53.109524Z",
     "start_time": "2024-04-30T14:15:52.891487Z"
    }
   },
   "id": "bae7c0216077a7d",
   "execution_count": 3
  },
  {
   "cell_type": "code",
   "outputs": [
    {
     "name": "stdout",
     "output_type": "stream",
     "text": [
      "0       0\n",
      "1       1\n",
      "2       0\n",
      "3       0\n",
      "4       1\n",
      "       ..\n",
      "1491    1\n",
      "1492    0\n",
      "1493    1\n",
      "1494    0\n",
      "1495    2\n",
      "Name: cellularity, Length: 1496, dtype: int8\n"
     ]
    }
   ],
   "source": [
    "def encode_categorical_cols(cols, df=X):\n",
    "\n",
    "    for col in cols:\n",
    "        df[col] = df[col].fillna(\"missing\")\n",
    "\n",
    "        df[col] = pd.Categorical(df[col], categories=df[col].unique(), ordered=True)\n",
    "\n",
    "        df[col] = df[col].cat.codes\n",
    "\n",
    "    return df\n",
    "\n",
    "nominal_cols =[]\n",
    "\n",
    "# Automatically fill nominal_cols with columns containing strings that are not in ordinal_cols\n",
    "for col in X.columns:\n",
    "    if X[col].dtype == 'object':\n",
    "        nominal_cols.append(col)\n",
    "\n",
    "# Encode categorical columns\n",
    "X = encode_categorical_cols(nominal_cols)\n",
    "X = X.fillna(0)\n",
    "\n",
    "\n",
    "label_encoder = LabelEncoder()\n",
    "\n",
    "# Convert string labels to integer labels\n",
    "y = label_encoder.fit_transform(y)\n",
    "print(X['cellularity'])"
   ],
   "metadata": {
    "collapsed": false,
    "ExecuteTime": {
     "end_time": "2024-04-30T14:15:55.155657Z",
     "start_time": "2024-04-30T14:15:54.892133Z"
    }
   },
   "id": "aa735e989b1a6bbd",
   "execution_count": 4
  },
  {
   "cell_type": "code",
   "outputs": [],
   "source": [],
   "metadata": {
    "collapsed": false
   },
   "id": "3749a3dd3bfea170"
  }
 ],
 "metadata": {
  "kernelspec": {
   "display_name": "Python 3",
   "language": "python",
   "name": "python3"
  },
  "language_info": {
   "codemirror_mode": {
    "name": "ipython",
    "version": 2
   },
   "file_extension": ".py",
   "mimetype": "text/x-python",
   "name": "python",
   "nbconvert_exporter": "python",
   "pygments_lexer": "ipython2",
   "version": "2.7.6"
  }
 },
 "nbformat": 4,
 "nbformat_minor": 5
}
